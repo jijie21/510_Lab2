{
 "cells": [
  {
   "cell_type": "code",
   "execution_count": 1,
   "metadata": {},
   "outputs": [],
   "source": [
    "import requests\n",
    "from bs4 import BeautifulSoup"
   ]
  },
  {
   "cell_type": "code",
   "execution_count": 11,
   "metadata": {},
   "outputs": [],
   "source": [
    "url = \"http://visitseattle.org/events/page/1\"\n",
    "\n",
    "# Create -> Post\n",
    "# Read -> Get\n",
    "# Update -> Put\n",
    "# Delete -> Delete\n",
    "# requests.post(\"http://concert.com/buy\")\n",
    "\n",
    "res = requests.get(url)\n"
   ]
  },
  {
   "cell_type": "code",
   "execution_count": null,
   "metadata": {},
   "outputs": [],
   "source": [
    "# 200 -> OK\n",
    "# 201 -> Created (after POST)\n",
    "# 301 -> Moved Permanetly\n",
    "# 302 -> \n",
    "# 400 -> Bad request (error from user)\n",
    "# 404 -> Not Found (error from user)\n",
    "# 500 -> Internet Server Error (error from server)\n",
    "\n",
    "\n",
    "res.status_code\n"
   ]
  },
  {
   "cell_type": "code",
   "execution_count": null,
   "metadata": {},
   "outputs": [],
   "source": [
    "res.text"
   ]
  },
  {
   "cell_type": "code",
   "execution_count": 12,
   "metadata": {},
   "outputs": [],
   "source": [
    "with open(\"visitseattle.html\", \"w\") as f:\n",
    "    f.write(res.text)\n"
   ]
  },
  {
   "cell_type": "code",
   "execution_count": 4,
   "metadata": {},
   "outputs": [],
   "source": [
    "from bs4 import BeautifulSoup"
   ]
  },
  {
   "cell_type": "code",
   "execution_count": 14,
   "metadata": {},
   "outputs": [],
   "source": [
    "soup = BeautifulSoup(res.text, \"html.parser\")"
   ]
  },
  {
   "cell_type": "code",
   "execution_count": 15,
   "metadata": {},
   "outputs": [
    {
     "data": {
      "text/plain": [
       "[<a href=\"https://visitseattle.org/events/glen-teriyaki/\" title=\"Glen Teriyaki\">Glen Teriyaki </a>,\n",
       " <a href=\"https://visitseattle.org/events/greta-matassa-sextet/\" title=\"Greta Matassa Sextet\">Greta Matassa Sextet </a>,\n",
       " <a href=\"https://visitseattle.org/events/holding-absence/\" title=\"Holding Absence\">Holding Absence </a>,\n",
       " <a href=\"https://visitseattle.org/events/nellie-mckay/\" title=\"Nellie McKay\">Nellie McKay </a>,\n",
       " <a href=\"https://visitseattle.org/events/amber-liu/\" title=\"Amber Liu\">Amber Liu </a>,\n",
       " <a href=\"https://visitseattle.org/events/disability-justice/\" title=\"Disability Justice\">Disability Justice </a>,\n",
       " <a href=\"https://visitseattle.org/events/hughes-bros-presents/\" title=\"Hughes Bros Presents\">Hughes Bros Presents </a>,\n",
       " <a href=\"https://visitseattle.org/events/sarya-wu/\" title=\"sarya wu\">sarya wu </a>,\n",
       " <a href=\"https://visitseattle.org/events/the-sweet-lillies/\" title=\"The Sweet Lillies\">The Sweet Lillies </a>]"
      ]
     },
     "execution_count": 15,
     "metadata": {},
     "output_type": "execute_result"
    }
   ],
   "source": [
    "selector = \"div.search-result-preview > div > h3 > a\"\n",
    "soup.select(selector)"
   ]
  },
  {
   "cell_type": "code",
   "execution_count": 19,
   "metadata": {},
   "outputs": [
    {
     "data": {
      "text/plain": [
       "[<a href=\"https://visitseattle.org/events/glen-teriyaki/\" title=\"Glen Teriyaki\">Glen Teriyaki </a>,\n",
       " <a href=\"https://visitseattle.org/events/greta-matassa-sextet/\" title=\"Greta Matassa Sextet\">Greta Matassa Sextet </a>,\n",
       " <a href=\"https://visitseattle.org/events/holding-absence/\" title=\"Holding Absence\">Holding Absence </a>,\n",
       " <a href=\"https://visitseattle.org/events/nellie-mckay/\" title=\"Nellie McKay\">Nellie McKay </a>,\n",
       " <a href=\"https://visitseattle.org/events/amber-liu/\" title=\"Amber Liu\">Amber Liu </a>,\n",
       " <a href=\"https://visitseattle.org/events/disability-justice/\" title=\"Disability Justice\">Disability Justice </a>,\n",
       " <a href=\"https://visitseattle.org/events/hughes-bros-presents/\" title=\"Hughes Bros Presents\">Hughes Bros Presents </a>,\n",
       " <a href=\"https://visitseattle.org/events/sarya-wu/\" title=\"sarya wu\">sarya wu </a>,\n",
       " <a href=\"https://visitseattle.org/events/the-sweet-lillies/\" title=\"The Sweet Lillies\">The Sweet Lillies </a>]"
      ]
     },
     "execution_count": 19,
     "metadata": {},
     "output_type": "execute_result"
    }
   ],
   "source": [
    "selector_original = \"#searchform > div > div > div.search-results > section > div.search-result-container > div:nth-child(1) > div.search-result-preview > div > h3 > a\"\n",
    "selector = \"div.search-result-preview > div > h3 > a\"\n",
    "links = soup.select(selector)\n",
    "links\n"
   ]
  },
  {
   "cell_type": "code",
   "execution_count": 23,
   "metadata": {},
   "outputs": [
    {
     "data": {
      "text/plain": [
       "['https://visitseattle.org/events/glen-teriyaki/',\n",
       " 'https://visitseattle.org/events/greta-matassa-sextet/',\n",
       " 'https://visitseattle.org/events/holding-absence/',\n",
       " 'https://visitseattle.org/events/nellie-mckay/',\n",
       " 'https://visitseattle.org/events/amber-liu/',\n",
       " 'https://visitseattle.org/events/disability-justice/',\n",
       " 'https://visitseattle.org/events/hughes-bros-presents/',\n",
       " 'https://visitseattle.org/events/sarya-wu/',\n",
       " 'https://visitseattle.org/events/the-sweet-lillies/']"
      ]
     },
     "execution_count": 23,
     "metadata": {},
     "output_type": "execute_result"
    }
   ],
   "source": [
    "[x['href'] for x in links] "
   ]
  },
  {
   "cell_type": "code",
   "execution_count": null,
   "metadata": {},
   "outputs": [],
   "source": []
  }
 ],
 "metadata": {
  "kernelspec": {
   "display_name": "Python 3",
   "language": "python",
   "name": "python3"
  },
  "language_info": {
   "codemirror_mode": {
    "name": "ipython",
    "version": 3
   },
   "file_extension": ".py",
   "mimetype": "text/x-python",
   "name": "python",
   "nbconvert_exporter": "python",
   "pygments_lexer": "ipython3",
   "version": "3.11.5"
  }
 },
 "nbformat": 4,
 "nbformat_minor": 2
}
